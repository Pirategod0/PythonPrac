{
  "nbformat": 4,
  "nbformat_minor": 0,
  "metadata": {
    "colab": {
      "provenance": [],
      "authorship_tag": "ABX9TyNMRXulv5oRdVY9bi3YwtVP",
      "include_colab_link": true
    },
    "kernelspec": {
      "name": "python3",
      "display_name": "Python 3"
    },
    "language_info": {
      "name": "python"
    }
  },
  "cells": [
    {
      "cell_type": "markdown",
      "metadata": {
        "id": "view-in-github",
        "colab_type": "text"
      },
      "source": [
        "<a href=\"https://colab.research.google.com/github/Pirategod0/PythonPrac/blob/main/Day_2.ipynb\" target=\"_parent\"><img src=\"https://colab.research.google.com/assets/colab-badge.svg\" alt=\"Open In Colab\"/></a>"
      ]
    },
    {
      "cell_type": "code",
      "execution_count": 5,
      "metadata": {
        "colab": {
          "base_uri": "https://localhost:8080/"
        },
        "id": "3EqYZ4RqC8q5",
        "outputId": "89c3b892-04c8-48bc-956e-87e3206665a8"
      },
      "outputs": [
        {
          "output_type": "stream",
          "name": "stdout",
          "text": [
            "Enter the name: John\n",
            "Enter a number: 15\n",
            "The name is John and the age is 15\n",
            "The type of the name is: <class 'str'> and the type of age is <class 'int'>\n"
          ]
        }
      ],
      "source": [
        "name = input(\"Enter the name: \")\n",
        "age = int(input(\"Enter a number: \"))\n",
        "print(f\"The name is {name} and the age is {age}\")\n",
        "print(f\"The type of the name is: {type(name)} and the type of age is {type(age)}\")\n"
      ]
    },
    {
      "cell_type": "markdown",
      "source": [],
      "metadata": {
        "id": "wWlSjAocGr99"
      }
    },
    {
      "cell_type": "code",
      "source": [
        "age = 25\n",
        "output = \"I am {} years old.\".format(age)\n",
        "print(output)"
      ],
      "metadata": {
        "colab": {
          "base_uri": "https://localhost:8080/"
        },
        "id": "R3S8JZ6iGsOl",
        "outputId": "e7c81b79-06bc-4f11-a31a-4ec985b8523f"
      },
      "execution_count": 6,
      "outputs": [
        {
          "output_type": "stream",
          "name": "stdout",
          "text": [
            "I am 25 years old.\n"
          ]
        }
      ]
    },
    {
      "cell_type": "code",
      "source": [
        "#Print the letter of a word going letter by letter\n",
        "word = input(\"Enter a word: \")\n",
        "for letter in word:\n",
        "  print(letter)"
      ],
      "metadata": {
        "colab": {
          "base_uri": "https://localhost:8080/"
        },
        "id": "BUoS12glHJw9",
        "outputId": "69cb5d46-17cd-4391-e232-937158eca018"
      },
      "execution_count": 12,
      "outputs": [
        {
          "output_type": "stream",
          "name": "stdout",
          "text": [
            "Enter a word: yuhbbu\n",
            "y\n",
            "u\n",
            "h\n",
            "b\n",
            "b\n",
            "u\n"
          ]
        }
      ]
    },
    {
      "cell_type": "code",
      "source": [
        "#Print the letters of a word using numbers (range)\n",
        "word = input(\"Enter a word: \")\n",
        "for i in range(len(word)):\n",
        "  print(word[i])"
      ],
      "metadata": {
        "colab": {
          "base_uri": "https://localhost:8080/"
        },
        "id": "8w1ROYlKJIFA",
        "outputId": "e62a156a-9189-46bb-b734-6b5019f867a0"
      },
      "execution_count": 15,
      "outputs": [
        {
          "output_type": "stream",
          "name": "stdout",
          "text": [
            "Enter a word: pull\n",
            "p\n",
            "u\n",
            "l\n",
            "l\n"
          ]
        }
      ]
    },
    {
      "cell_type": "code",
      "source": [
        "my_list = [1, 2, 3, 'hello', 'world', True, [4, 5, 6]]\n",
        "print(my_list[-1])"
      ],
      "metadata": {
        "colab": {
          "base_uri": "https://localhost:8080/"
        },
        "id": "l0TlHICjLJ1B",
        "outputId": "99bbdad8-8ed6-4842-9c76-d5500a78a22d"
      },
      "execution_count": 18,
      "outputs": [
        {
          "output_type": "stream",
          "name": "stdout",
          "text": [
            "[4, 5, 6]\n"
          ]
        }
      ]
    },
    {
      "cell_type": "code",
      "source": [
        "print(my_list[0])\n",
        "my_list[0] = 10\n",
        "print(my_list[0])"
      ],
      "metadata": {
        "colab": {
          "base_uri": "https://localhost:8080/"
        },
        "id": "YhZOKMVKLaah",
        "outputId": "7ddea15b-bce1-431f-ef15-cc9c5f6dc612"
      },
      "execution_count": 22,
      "outputs": [
        {
          "output_type": "stream",
          "name": "stdout",
          "text": [
            "1\n",
            "10\n"
          ]
        }
      ]
    },
    {
      "cell_type": "code",
      "source": [
        "my_tuple = (1, 2, 3, 'hello', 'world', True, [4, 5, 6])\n"
      ],
      "metadata": {
        "id": "I7WheKhaNnoC"
      },
      "execution_count": 23,
      "outputs": []
    }
  ]
}