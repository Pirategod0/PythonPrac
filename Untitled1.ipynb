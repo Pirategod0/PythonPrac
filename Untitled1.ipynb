{
  "nbformat": 4,
  "nbformat_minor": 0,
  "metadata": {
    "colab": {
      "provenance": [],
      "authorship_tag": "ABX9TyO565q634EPU3aHNVZQU31o",
      "include_colab_link": true
    },
    "kernelspec": {
      "name": "python3",
      "display_name": "Python 3"
    },
    "language_info": {
      "name": "python"
    }
  },
  "cells": [
    {
      "cell_type": "markdown",
      "metadata": {
        "id": "view-in-github",
        "colab_type": "text"
      },
      "source": [
        "<a href=\"https://colab.research.google.com/github/Pirategod0/PythonPrac/blob/main/Untitled1.ipynb\" target=\"_parent\"><img src=\"https://colab.research.google.com/assets/colab-badge.svg\" alt=\"Open In Colab\"/></a>"
      ]
    },
    {
      "cell_type": "code",
      "execution_count": 6,
      "metadata": {
        "colab": {
          "base_uri": "https://localhost:8080/"
        },
        "id": "aEaAjuYC0g6s",
        "outputId": "1408b32d-1da1-41f4-8d71-1da9a41b5471"
      },
      "outputs": [
        {
          "output_type": "stream",
          "name": "stdout",
          "text": [
            "Enter a number: 2\n",
            "Enter a number: 8\n",
            "4\n",
            "9\n",
            "16\n",
            "25\n",
            "36\n",
            "49\n",
            "64\n"
          ]
        }
      ],
      "source": [
        "x = int(input(\"Enter a number: \"))\n",
        "y = int(input(\"Enter a number: \"))\n",
        "if x < y:\n",
        "  while x <= y:\n",
        "    print(x*x)\n",
        "    x+=1\n",
        "else:\n",
        "  print(\"Error\")"
      ]
    },
    {
      "cell_type": "code",
      "source": [
        "x = [4,9,16,25,36,49,64,81,100]\n",
        "for y in x:\n",
        "  if y % 2 == 0:\n",
        "    print(y)\n"
      ],
      "metadata": {
        "colab": {
          "base_uri": "https://localhost:8080/"
        },
        "id": "qcGw7QVU1kGF",
        "outputId": "9fc554aa-c604-43d4-d0c2-89a8de10e3d8"
      },
      "execution_count": 10,
      "outputs": [
        {
          "output_type": "stream",
          "name": "stdout",
          "text": [
            "4\n",
            "16\n",
            "36\n",
            "64\n",
            "100\n"
          ]
        }
      ]
    },
    {
      "cell_type": "code",
      "source": [
        "x = int(input(\"Enter a number between 1-100: \"))\n",
        "while x < 1 or x > 100:\n",
        "  print(\"Error, try again\")\n",
        "  x = int(input(\"Enter a number: \"))\n",
        "if (x % 2 == 0):\n",
        "  if(x%3 == 0):\n",
        "    print(x, \"is even and is a mutiple of 3\")\n",
        "  else:\n",
        "    print(x, \"is even and isn't a mutiple of 3\")\n",
        "else:\n",
        "  if(x%3 == 0):\n",
        "    print(x, \"is odd and is a mutiple of 3\")\n",
        "  else:\n",
        "    print(x, \"is odd and isn't a mutiple of 3\")\n",
        ""
      ],
      "metadata": {
        "colab": {
          "base_uri": "https://localhost:8080/"
        },
        "id": "KX9HrVVD3CSG",
        "outputId": "907fecd2-5ee3-4086-bc51-08193572566c"
      },
      "execution_count": 15,
      "outputs": [
        {
          "output_type": "stream",
          "name": "stdout",
          "text": [
            "Enter a number between 1-100: 7\n",
            "7 is odd and isn't a mutiple of 3\n"
          ]
        }
      ]
    },
    {
      "cell_type": "code",
      "source": [
        "#Will test if a number is cool or not, a number is cool if it is divisible by both 2 and 3 but also contains a 2 or 3\n",
        "def coolchecker (x):\n",
        "  if (x % 2 != 0 or x % 3 != 0):\n",
        "    return(\"Not cool\")\n",
        "  b = x\n",
        "  while b > 0:\n",
        "    c = b % 10\n",
        "    b = b - c\n",
        "    b = b / 10\n",
        "    if c == 3 or c == 2:\n",
        "      return(\"Cool number\")\n",
        "  print(\"Almost cool but not cool\")\n",
        "y = int(input(\"Enter a number: \"))\n",
        "coolchecker(y)"
      ],
      "metadata": {
        "colab": {
          "base_uri": "https://localhost:8080/",
          "height": 53
        },
        "id": "xeejhQfg4_G7",
        "outputId": "d3134595-3e0b-4464-ab95-a5cfbe9acaa0"
      },
      "execution_count": 17,
      "outputs": [
        {
          "name": "stdout",
          "output_type": "stream",
          "text": [
            "Enter a number: 222\n"
          ]
        },
        {
          "output_type": "execute_result",
          "data": {
            "text/plain": [
              "'Cool number'"
            ],
            "application/vnd.google.colaboratory.intrinsic+json": {
              "type": "string"
            }
          },
          "metadata": {},
          "execution_count": 17
        }
      ]
    }
  ]
}