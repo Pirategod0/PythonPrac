{
  "nbformat": 4,
  "nbformat_minor": 0,
  "metadata": {
    "colab": {
      "provenance": [],
      "authorship_tag": "ABX9TyPKMSEwyzVguOjH2lL64v0h",
      "include_colab_link": true
    },
    "kernelspec": {
      "name": "python3",
      "display_name": "Python 3"
    },
    "language_info": {
      "name": "python"
    }
  },
  "cells": [
    {
      "cell_type": "markdown",
      "metadata": {
        "id": "view-in-github",
        "colab_type": "text"
      },
      "source": [
        "<a href=\"https://colab.research.google.com/github/Pirategod0/PythonPrac/blob/main/Day_3.ipynb\" target=\"_parent\"><img src=\"https://colab.research.google.com/assets/colab-badge.svg\" alt=\"Open In Colab\"/></a>"
      ]
    },
    {
      "cell_type": "code",
      "execution_count": 4,
      "metadata": {
        "colab": {
          "base_uri": "https://localhost:8080/"
        },
        "id": "prX15D_UWPG-",
        "outputId": "606cf2eb-c4d4-464d-afac-2e3eaec3e326"
      },
      "outputs": [
        {
          "output_type": "stream",
          "name": "stdout",
          "text": [
            "[0.5, 2.0, 4.5, 8.0, 12.5, 18.0, 24.5, 32.0, 40.5, 50.0, 60.5, 72.0, 84.5, 98.0, 112.5, 128.0, 144.5, 162.0, 180.5, 200.0]\n"
          ]
        }
      ],
      "source": [
        "sq = [x * x / 2  for x in range(1,21)]\n",
        "print(sq)"
      ]
    },
    {
      "cell_type": "code",
      "source": [
        "dictionary_cars = {'mercedes' : 1, 'ferrari' : 2, 'toyota' : 3}\n",
        "print(dictionary_cars)\n",
        "dictionary_cars['ferrari'] = 4\n",
        "print(dictionary_cars)\n",
        "dictionary_cars['lamborghini'] = 2\n",
        "print(dictionary_cars)\n",
        "dictionary_cars.pop('toyota')\n",
        "print(dictionary_cars)\n",
        "dictionary_cars1 = dictionary_cars.copy()\n",
        "dictionary_cars.clear()\n",
        "print(dictionary_cars, dictionary_cars1)\n"
      ],
      "metadata": {
        "colab": {
          "base_uri": "https://localhost:8080/"
        },
        "id": "jf0Y-yfeXJK-",
        "outputId": "cd2e5ca3-45bb-4b4f-c94f-26ed0a2697b0"
      },
      "execution_count": 13,
      "outputs": [
        {
          "output_type": "stream",
          "name": "stdout",
          "text": [
            "{'mercedes': 1, 'ferrari': 2, 'toyota': 3}\n",
            "{'mercedes': 1, 'ferrari': 4, 'toyota': 3}\n",
            "{'mercedes': 1, 'ferrari': 4, 'toyota': 3, 'lamborghini': 2}\n",
            "{'mercedes': 1, 'ferrari': 4, 'lamborghini': 2}\n",
            "{} {'mercedes': 1, 'ferrari': 4, 'lamborghini': 2}\n"
          ]
        }
      ]
    },
    {
      "cell_type": "code",
      "source": [
        "def find_kth_largest(my_list, k):\n",
        "  my_list.sort(reverse=True)\n",
        "  print(my_list[k-1])\n",
        "a = int(input(\"Enter the number of terms: \"))\n",
        "my_list = []\n",
        "count = 0\n",
        "while(count < a):\n",
        "  my_list.append(float(input(f\"Enter term {count+1} for the list:\")))\n",
        "  count = count + 1\n",
        "k = int(input(\"Which highest number do you want?12: \"))\n",
        "k_largest=find_kth_largest(my_list, k)"
      ],
      "metadata": {
        "colab": {
          "base_uri": "https://localhost:8080/"
        },
        "id": "y9-MkdiKd33t",
        "outputId": "e1140067-1659-4fbb-e939-1a618bce9d93"
      },
      "execution_count": 40,
      "outputs": [
        {
          "output_type": "stream",
          "name": "stdout",
          "text": [
            "Enter the number of terms: 5\n",
            "Enter term 1 for the list:9\n",
            "Enter term 2 for the list:32\n",
            "Enter term 3 for the list:8\n",
            "Enter term 4 for the list:8\n",
            "Enter term 5 for the list:2\n",
            "Which highest number do you want?: 3\n",
            "8.0\n"
          ]
        }
      ]
    },
    {
      "cell_type": "code",
      "source": [
        "def input_number_list():\n",
        "    numbers = []\n",
        "    n = int(input(\"Enter the number of elements: \"))\n",
        "    for i in range(n):\n",
        "        num = float(input(f\"Enter element {i+1}: \"))\n",
        "        numbers.append(num)\n",
        "    return numbers\n",
        "input_number_list()"
      ],
      "metadata": {
        "colab": {
          "base_uri": "https://localhost:8080/"
        },
        "id": "co5KFs86gPLr",
        "outputId": "5d1425b6-e199-4da3-a17b-9b4fdd358482"
      },
      "execution_count": 35,
      "outputs": [
        {
          "name": "stdout",
          "output_type": "stream",
          "text": [
            "Enter the number of elements: 6\n",
            "Enter element 1: 32\n",
            "Enter element 2: 9\n",
            "Enter element 3: 4\n",
            "Enter element 4: 18\n",
            "Enter element 5: 4\n",
            "Enter element 6: 2\n"
          ]
        },
        {
          "output_type": "execute_result",
          "data": {
            "text/plain": [
              "[32.0, 9.0, 4.0, 18.0, 4.0, 2.0]"
            ]
          },
          "metadata": {},
          "execution_count": 35
        }
      ]
    }
  ]
}